{
 "cells": [
  {
   "cell_type": "code",
   "execution_count": 1,
   "id": "a20349c2",
   "metadata": {},
   "outputs": [],
   "source": [
    "import pandas as pd\n",
    "import win32com.client as win32\n"
   ]
  },
  {
   "cell_type": "code",
   "execution_count": 2,
   "id": "759cacda",
   "metadata": {},
   "outputs": [
    {
     "data": {
      "text/html": [
       "<div>\n",
       "<style scoped>\n",
       "    .dataframe tbody tr th:only-of-type {\n",
       "        vertical-align: middle;\n",
       "    }\n",
       "\n",
       "    .dataframe tbody tr th {\n",
       "        vertical-align: top;\n",
       "    }\n",
       "\n",
       "    .dataframe thead th {\n",
       "        text-align: right;\n",
       "    }\n",
       "</style>\n",
       "<table border=\"1\" class=\"dataframe\">\n",
       "  <thead>\n",
       "    <tr style=\"text-align: right;\">\n",
       "      <th></th>\n",
       "      <th>Organization</th>\n",
       "      <th>Emp No.</th>\n",
       "      <th>Name</th>\n",
       "      <th>Office</th>\n",
       "      <th>New E-Mail</th>\n",
       "    </tr>\n",
       "  </thead>\n",
       "  <tbody>\n",
       "    <tr>\n",
       "      <th>0</th>\n",
       "      <td>YIL</td>\n",
       "      <td>130359</td>\n",
       "      <td>Rama Krishnan K</td>\n",
       "      <td>E.City</td>\n",
       "      <td>rama.krishnan@yokogawa.com</td>\n",
       "    </tr>\n",
       "    <tr>\n",
       "      <th>1</th>\n",
       "      <td>YIL</td>\n",
       "      <td>130359</td>\n",
       "      <td>Vijay ananth E</td>\n",
       "      <td>E.City</td>\n",
       "      <td>n.vijayananth@yokogawa.com</td>\n",
       "    </tr>\n",
       "    <tr>\n",
       "      <th>2</th>\n",
       "      <td>YIL</td>\n",
       "      <td>130359</td>\n",
       "      <td>Arthi E</td>\n",
       "      <td>E.City</td>\n",
       "      <td>arthi.e@yokogawa.com</td>\n",
       "    </tr>\n",
       "  </tbody>\n",
       "</table>\n",
       "</div>"
      ],
      "text/plain": [
       "  Organization  Emp No.             Name  Office                  New E-Mail\n",
       "0          YIL   130359  Rama Krishnan K  E.City  rama.krishnan@yokogawa.com\n",
       "1          YIL   130359   Vijay ananth E  E.City  n.vijayananth@yokogawa.com\n",
       "2          YIL   130359          Arthi E  E.City        arthi.e@yokogawa.com"
      ]
     },
     "execution_count": 2,
     "metadata": {},
     "output_type": "execute_result"
    }
   ],
   "source": [
    "df_mail_list=pd.read_excel('Test_mail.xlsx')\n",
    "df_mail_list"
   ]
  },
  {
   "cell_type": "code",
   "execution_count": 6,
   "id": "9291c633",
   "metadata": {},
   "outputs": [],
   "source": [
    "for i in range(len(df_mail_list)) :\n",
    "    outlook = win32.Dispatch('outlook.application')\n",
    "    mail = outlook.CreateItem(0)\n",
    "    mail.To = df_mail_list.loc[i, \"New E-Mail\"]\n",
    "    mail.Subject = 'This mail was automated from python please do ignore this'\n",
    "    mail.Body = 'Test mail using Python '\n",
    "    #mail.HTMLBody = '<h2>HTML Message body</h2>' #this field is optional\n",
    "\n",
    "    # To attach a file to the email (optional):\n",
    "    attachment  = \"D:\\GRT\\GRT_Overview.pptx\"\n",
    "    mail.Attachments.Add(attachment)\n",
    "\n",
    "    mail.Send()"
   ]
  },
  {
   "cell_type": "code",
   "execution_count": null,
   "id": "da92a4cd",
   "metadata": {},
   "outputs": [],
   "source": [
    "\n"
   ]
  }
 ],
 "metadata": {
  "kernelspec": {
   "display_name": "Python 3 (ipykernel)",
   "language": "python",
   "name": "python3"
  },
  "language_info": {
   "codemirror_mode": {
    "name": "ipython",
    "version": 3
   },
   "file_extension": ".py",
   "mimetype": "text/x-python",
   "name": "python",
   "nbconvert_exporter": "python",
   "pygments_lexer": "ipython3",
   "version": "3.10.7"
  }
 },
 "nbformat": 4,
 "nbformat_minor": 5
}
