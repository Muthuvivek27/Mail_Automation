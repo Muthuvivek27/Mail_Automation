{
 "cells": [
  {
   "cell_type": "code",
   "execution_count": 4,
   "id": "e5f888a0",
   "metadata": {},
   "outputs": [
    {
     "ename": "ModuleNotFoundError",
     "evalue": "No module named 'chromedriver_autoinstaller'",
     "output_type": "error",
     "traceback": [
      "\u001b[1;31m---------------------------------------------------------------------------\u001b[0m",
      "\u001b[1;31mModuleNotFoundError\u001b[0m                       Traceback (most recent call last)",
      "Cell \u001b[1;32mIn [4], line 11\u001b[0m\n\u001b[0;32m      9\u001b[0m \u001b[38;5;28;01mimport\u001b[39;00m \u001b[38;5;21;01mwin32com\u001b[39;00m\u001b[38;5;21;01m.\u001b[39;00m\u001b[38;5;21;01mclient\u001b[39;00m \u001b[38;5;28;01mas\u001b[39;00m \u001b[38;5;21;01mwin32\u001b[39;00m\n\u001b[0;32m     10\u001b[0m \u001b[38;5;28;01mimport\u001b[39;00m \u001b[38;5;21;01mgetpass\u001b[39;00m\n\u001b[1;32m---> 11\u001b[0m \u001b[38;5;28;01mimport\u001b[39;00m \u001b[38;5;21;01mchromedriver_autoinstaller\u001b[39;00m\n\u001b[0;32m     15\u001b[0m chromedriver_autoinstaller\u001b[38;5;241m.\u001b[39minstall() \n\u001b[0;32m     17\u001b[0m chrome_options \u001b[38;5;241m=\u001b[39m webdriver\u001b[38;5;241m.\u001b[39mChromeOptions()\n",
      "\u001b[1;31mModuleNotFoundError\u001b[0m: No module named 'chromedriver_autoinstaller'"
     ]
    }
   ],
   "source": [
    "from selenium import webdriver\n",
    "import pandas as pd\n",
    "from datetime import date\n",
    "from selenium.webdriver.chrome.service import Service\n",
    "from selenium.webdriver.common.keys import Keys\n",
    "from bs4 import BeautifulSoup\n",
    "import urllib.request\n",
    "import os\n",
    "import win32com.client as win32\n",
    "import getpass\n",
    "import chromedriver_autoinstaller\n",
    "\n",
    "\n",
    "\n",
    "chromedriver_autoinstaller.install() \n",
    "\n",
    "chrome_options = webdriver.ChromeOptions()\n",
    "prefs = {\"credentials_enable_service\": False,\n",
    "     \"profile.password_manager_enabled\": False}\n",
    "chrome_options.add_experimental_option(\"prefs\", prefs)\n",
    "chrome_options.add_experimental_option(\"excludeSwitches\", ['enable-automation'])\n",
    "\n",
    "\n",
    "global driver\n"
   ]
  },
  {
   "cell_type": "code",
   "execution_count": null,
   "id": "27ebcb92",
   "metadata": {},
   "outputs": [],
   "source": [
    "def password_entry():\n",
    "    global df_d\n",
    "    driver = webdriver.Chrome()\n",
    "    #driver = webdriver.Chrome(\"C:\\Program Files (x86)\\Google\\Chrome\\Application\\chrome.exe\",)\n",
    "    driver.get(\"https://yil-intranet.in.ykgw.net/forms/Login.asp?Path=/OLTS/CEC/Reports/PendingList.aspx\")\n",
    "\n",
    "    print(\"Enter Username:\")\n",
    "    username_input=input()\n",
    "    #username_input=\"220255\"\n",
    "    print(\"Enter Password:\")\n",
    "    user=getpass.getuser()\n",
    "    password_input = getpass.getpass(user)\n",
    "    print(password_input)\n",
    "    #password_input=\"Yokogawa@feb22\"\n",
    "    username = driver.find_element_by_id(\"EmployeeNo\")\n",
    "    password = driver.find_element_by_id(\"Password\")\n",
    "\n",
    "    #username.send_keys(\"220255\")\n",
    "    #password.send_keys(\"Yokogawa@feb22\")\n",
    "\n",
    "    username.send_keys(\"\",username_input)\n",
    "    password.send_keys(\"\",password_input)\n",
    "    \n",
    "    driver.find_element_by_name(\"Submit\").click()\n",
    "    driver.find_element_by_name(\"ibt1\").click()\n",
    "    driver.find_element_by_id(\"CE1_today\").click()\n",
    "\n",
    "    #today = date.today()\n",
    "    Status = driver.find_element_by_id(\"ddlStatus\")\n",
    "    Status.send_keys(\"PendingSubmissions\")\n",
    "\n",
    "    driver.find_element_by_name(\"Submit\").click()\n",
    "\n",
    "    innerHTML = driver.page_source\n",
    "    soup = BeautifulSoup(innerHTML, \"html.parser\")\n",
    "\n",
    "    table = soup.find('table', {\"id\" : 'tbPendingList'})\n",
    "\n",
    "\n",
    "    df_d = pd.read_html(str(table))[0]\n",
    "    \n",
    "          "
   ]
  },
  {
   "cell_type": "markdown",
   "id": "b945424b",
   "metadata": {},
   "source": [
    "\n"
   ]
  },
  {
   "cell_type": "code",
   "execution_count": null,
   "id": "fa2a68b4",
   "metadata": {},
   "outputs": [],
   "source": [
    "password_entry()"
   ]
  },
  {
   "cell_type": "code",
   "execution_count": null,
   "id": "044456d6",
   "metadata": {},
   "outputs": [],
   "source": [
    "#df2 = pd.read_excel('Extracted Data.xlsx')\n",
    "global df_d\n",
    "\n",
    "new_header = df_d.iloc[0] #grab the first row for the header\n",
    "df_d = df_d[1:] #take the data less the header row\n",
    "df_d.columns = new_header\n"
   ]
  },
  {
   "cell_type": "code",
   "execution_count": null,
   "id": "5cee9fc8",
   "metadata": {},
   "outputs": [],
   "source": [
    "#driver = webdriver.Chrome(r'C:\\Users\\464m0359\\Downloads\\chromedriver_win32/chromedriver',options=chrome_options)\n",
    "driver = webdriver.Chrome()\n",
    "driver.get(\"https://yil-intranet.in.ykgw.net/Employee/Search/Search.asp\")\n",
    "Organisation=driver.find_element_by_name(\"OrganizationId\")\n",
    "Organisation.send_keys(\"All\")\n",
    "#driver.find_element_by_id(\"CE1_today\").click()\n",
    "\n",
    "number=driver.find_element_by_name(\"NoOfRecords\")\n",
    "number.send_keys(\"1000\")\n",
    "\n",
    "driver.find_element_by_xpath(\"/html/body/form/table/tbody/tr[5]/td[2]/select/option[11]\").click()\n",
    "\n"
   ]
  },
  {
   "cell_type": "code",
   "execution_count": null,
   "id": "411f4e68",
   "metadata": {},
   "outputs": [],
   "source": [
    "#today = date.today()\n",
    "#Status = driver.find_element_by_id(\"OrgDepartmentId\")\n",
    "#Status.send_keys(\"GDC-I EXPORTS\")\n",
    "\n",
    "driver.find_element_by_name(\"Submit\").click()\n",
    "\n",
    "innerHTML = driver.page_source\n",
    "soup = BeautifulSoup(innerHTML, \"html.parser\")"
   ]
  },
  {
   "cell_type": "code",
   "execution_count": null,
   "id": "c9574ea6",
   "metadata": {},
   "outputs": [],
   "source": [
    "table = soup.find_all(\"table\")\n",
    "\n",
    "\n",
    "df = pd.read_html(str(table))[1]\n",
    "\n",
    "#driver.close()"
   ]
  },
  {
   "cell_type": "code",
   "execution_count": null,
   "id": "7342b531",
   "metadata": {},
   "outputs": [],
   "source": [
    "#df.to_excel(r'Muthu_Extract.xlsx',index=False,header=True)\n",
    "df = df[df.Organization != \"Yokogawa India Limited\"]\n",
    "df\n",
    "df =df[:-2]\n",
    "df1 = df[['Organization', 'Emp No.','Name','Office','New E-Mail']]\n",
    "#df1.to_excel(r'Muthu_Extract.xlsx',index=False,header=True)\n",
    "\n"
   ]
  },
  {
   "cell_type": "code",
   "execution_count": null,
   "id": "81c52a8a",
   "metadata": {},
   "outputs": [],
   "source": [
    "df_final = pd.merge(df_d, \n",
    "                      df1, \n",
    "                      on ='Emp No.',\n",
    "                      how ='right')\n",
    "\n",
    "df_final=df_final.drop(['Organization_y', 'Name_y'], axis=1)\n",
    "df_final=df_final.dropna()\n",
    "df_final.to_excel(\"Extact.xlsx\")\n",
    "df_final"
   ]
  },
  {
   "cell_type": "code",
   "execution_count": null,
   "id": "1a0446ac",
   "metadata": {},
   "outputs": [],
   "source": [
    "df_mail=pd.read_excel('Extact.xlsx')\n",
    "df_mail = df_mail[df_mail['New E-Mail'] != \"-\"]\n",
    "df_mail\n"
   ]
  },
  {
   "cell_type": "code",
   "execution_count": null,
   "id": "8f1b1998",
   "metadata": {},
   "outputs": [],
   "source": [
    "for index, row in df_mail.iterrows():\n",
    "    print(\"Mailing to \" + row[\"New E-Mail\"] )\n",
    "    outlook = win32.Dispatch('outlook.application')\n",
    "    mail = outlook.CreateItem(0)\n",
    "    mail.To = row[\"New E-Mail\"]\n",
    "    mail.cc = \"muthu.vivek@yokogawa.com\"\n",
    "    mail.Subject = 'This mail was automated from python please do ignore this'\n",
    "    mail.Body = 'Test mail using Python '\n",
    "    #mail.HTMLBody = '<h2>HTML Message body</h2>' #this field is optional\n",
    "\n",
    "    # To attach a file to the email (optional):\n",
    "    #attachment  = \"D:\\GRT\\GRT_Overview.pptx\"\n",
    "    #mail.Attachments.Add(attachment)\n",
    "    mail.Send()"
   ]
  },
  {
   "cell_type": "code",
   "execution_count": null,
   "id": "1817b6e0",
   "metadata": {},
   "outputs": [],
   "source": []
  },
  {
   "cell_type": "code",
   "execution_count": null,
   "id": "751717e5",
   "metadata": {},
   "outputs": [],
   "source": []
  }
 ],
 "metadata": {
  "kernelspec": {
   "display_name": "Python 3 (ipykernel)",
   "language": "python",
   "name": "python3"
  },
  "language_info": {
   "codemirror_mode": {
    "name": "ipython",
    "version": 3
   },
   "file_extension": ".py",
   "mimetype": "text/x-python",
   "name": "python",
   "nbconvert_exporter": "python",
   "pygments_lexer": "ipython3",
   "version": "3.8.5"
  }
 },
 "nbformat": 4,
 "nbformat_minor": 5
}
